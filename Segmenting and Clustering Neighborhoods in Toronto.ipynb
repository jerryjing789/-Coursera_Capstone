{
 "cells": [
  {
   "cell_type": "markdown",
   "metadata": {},
   "source": [
    "# Part 1. Scraping Table from Wikipedia page"
   ]
  },
  {
   "cell_type": "markdown",
   "metadata": {},
   "source": [
    "**import modules needed**"
   ]
  },
  {
   "cell_type": "code",
   "execution_count": 1,
   "metadata": {},
   "outputs": [],
   "source": [
    "import pandas as pd"
   ]
  },
  {
   "cell_type": "markdown",
   "metadata": {},
   "source": [
    "**Read URL as html**"
   ]
  },
  {
   "cell_type": "code",
   "execution_count": 2,
   "metadata": {},
   "outputs": [],
   "source": [
    "url = 'https://en.wikipedia.org/wiki/List_of_postal_codes_of_Canada:_M'\n",
    "html = pd.read_html(url)"
   ]
  },
  {
   "cell_type": "markdown",
   "metadata": {},
   "source": [
    "**Convert the html tables list into pandas dataframe**"
   ]
  },
  {
   "cell_type": "code",
   "execution_count": 3,
   "metadata": {},
   "outputs": [
    {
     "data": {
      "text/html": [
       "<div>\n",
       "<style scoped>\n",
       "    .dataframe tbody tr th:only-of-type {\n",
       "        vertical-align: middle;\n",
       "    }\n",
       "\n",
       "    .dataframe tbody tr th {\n",
       "        vertical-align: top;\n",
       "    }\n",
       "\n",
       "    .dataframe thead th {\n",
       "        text-align: right;\n",
       "    }\n",
       "</style>\n",
       "<table border=\"1\" class=\"dataframe\">\n",
       "  <thead>\n",
       "    <tr style=\"text-align: right;\">\n",
       "      <th></th>\n",
       "      <th>Postal Code</th>\n",
       "      <th>Borough</th>\n",
       "      <th>Neighborhood</th>\n",
       "    </tr>\n",
       "  </thead>\n",
       "  <tbody>\n",
       "    <tr>\n",
       "      <th>0</th>\n",
       "      <td>M1A</td>\n",
       "      <td>Not assigned</td>\n",
       "      <td>NaN</td>\n",
       "    </tr>\n",
       "    <tr>\n",
       "      <th>1</th>\n",
       "      <td>M2A</td>\n",
       "      <td>Not assigned</td>\n",
       "      <td>NaN</td>\n",
       "    </tr>\n",
       "    <tr>\n",
       "      <th>2</th>\n",
       "      <td>M3A</td>\n",
       "      <td>North York</td>\n",
       "      <td>Parkwoods</td>\n",
       "    </tr>\n",
       "    <tr>\n",
       "      <th>3</th>\n",
       "      <td>M4A</td>\n",
       "      <td>North York</td>\n",
       "      <td>Victoria Village</td>\n",
       "    </tr>\n",
       "    <tr>\n",
       "      <th>4</th>\n",
       "      <td>M5A</td>\n",
       "      <td>Downtown Toronto</td>\n",
       "      <td>Regent Park / Harbourfront</td>\n",
       "    </tr>\n",
       "  </tbody>\n",
       "</table>\n",
       "</div>"
      ],
      "text/plain": [
       "  Postal Code           Borough                Neighborhood\n",
       "0         M1A      Not assigned                         NaN\n",
       "1         M2A      Not assigned                         NaN\n",
       "2         M3A        North York                   Parkwoods\n",
       "3         M4A        North York            Victoria Village\n",
       "4         M5A  Downtown Toronto  Regent Park / Harbourfront"
      ]
     },
     "execution_count": 3,
     "metadata": {},
     "output_type": "execute_result"
    }
   ],
   "source": [
    "df = pd.DataFrame(html[0])\n",
    "df.head()"
   ]
  },
  {
   "cell_type": "markdown",
   "metadata": {},
   "source": [
    "**Drop the rows where `Borough` is `Not assigned`**"
   ]
  },
  {
   "cell_type": "code",
   "execution_count": 4,
   "metadata": {},
   "outputs": [
    {
     "data": {
      "text/html": [
       "<div>\n",
       "<style scoped>\n",
       "    .dataframe tbody tr th:only-of-type {\n",
       "        vertical-align: middle;\n",
       "    }\n",
       "\n",
       "    .dataframe tbody tr th {\n",
       "        vertical-align: top;\n",
       "    }\n",
       "\n",
       "    .dataframe thead th {\n",
       "        text-align: right;\n",
       "    }\n",
       "</style>\n",
       "<table border=\"1\" class=\"dataframe\">\n",
       "  <thead>\n",
       "    <tr style=\"text-align: right;\">\n",
       "      <th></th>\n",
       "      <th>Postal Code</th>\n",
       "      <th>Borough</th>\n",
       "      <th>Neighborhood</th>\n",
       "    </tr>\n",
       "  </thead>\n",
       "  <tbody>\n",
       "    <tr>\n",
       "      <th>0</th>\n",
       "      <td>M3A</td>\n",
       "      <td>North York</td>\n",
       "      <td>Parkwoods</td>\n",
       "    </tr>\n",
       "    <tr>\n",
       "      <th>1</th>\n",
       "      <td>M4A</td>\n",
       "      <td>North York</td>\n",
       "      <td>Victoria Village</td>\n",
       "    </tr>\n",
       "    <tr>\n",
       "      <th>2</th>\n",
       "      <td>M5A</td>\n",
       "      <td>Downtown Toronto</td>\n",
       "      <td>Regent Park / Harbourfront</td>\n",
       "    </tr>\n",
       "    <tr>\n",
       "      <th>3</th>\n",
       "      <td>M6A</td>\n",
       "      <td>North York</td>\n",
       "      <td>Lawrence Manor / Lawrence Heights</td>\n",
       "    </tr>\n",
       "    <tr>\n",
       "      <th>4</th>\n",
       "      <td>M7A</td>\n",
       "      <td>Downtown Toronto</td>\n",
       "      <td>Queen's Park / Ontario Provincial Government</td>\n",
       "    </tr>\n",
       "  </tbody>\n",
       "</table>\n",
       "</div>"
      ],
      "text/plain": [
       "  Postal Code           Borough                                  Neighborhood\n",
       "0         M3A        North York                                     Parkwoods\n",
       "1         M4A        North York                              Victoria Village\n",
       "2         M5A  Downtown Toronto                    Regent Park / Harbourfront\n",
       "3         M6A        North York             Lawrence Manor / Lawrence Heights\n",
       "4         M7A  Downtown Toronto  Queen's Park / Ontario Provincial Government"
      ]
     },
     "execution_count": 4,
     "metadata": {},
     "output_type": "execute_result"
    }
   ],
   "source": [
    "df = df.drop(df[df['Borough']=='Not assigned'].index.values).reset_index(drop=True)\n",
    "df.head()"
   ]
  },
  {
   "cell_type": "markdown",
   "metadata": {},
   "source": [
    "**Change the Neighborhood name to Borough name if Neighborhood's name is `Not assigned`**"
   ]
  },
  {
   "cell_type": "code",
   "execution_count": 5,
   "metadata": {},
   "outputs": [
    {
     "data": {
      "text/html": [
       "<div>\n",
       "<style scoped>\n",
       "    .dataframe tbody tr th:only-of-type {\n",
       "        vertical-align: middle;\n",
       "    }\n",
       "\n",
       "    .dataframe tbody tr th {\n",
       "        vertical-align: top;\n",
       "    }\n",
       "\n",
       "    .dataframe thead th {\n",
       "        text-align: right;\n",
       "    }\n",
       "</style>\n",
       "<table border=\"1\" class=\"dataframe\">\n",
       "  <thead>\n",
       "    <tr style=\"text-align: right;\">\n",
       "      <th></th>\n",
       "      <th>Postal Code</th>\n",
       "      <th>Borough</th>\n",
       "      <th>Neighborhood</th>\n",
       "    </tr>\n",
       "  </thead>\n",
       "  <tbody>\n",
       "    <tr>\n",
       "      <th>0</th>\n",
       "      <td>M3A</td>\n",
       "      <td>North York</td>\n",
       "      <td>Parkwoods</td>\n",
       "    </tr>\n",
       "    <tr>\n",
       "      <th>1</th>\n",
       "      <td>M4A</td>\n",
       "      <td>North York</td>\n",
       "      <td>Victoria Village</td>\n",
       "    </tr>\n",
       "    <tr>\n",
       "      <th>2</th>\n",
       "      <td>M5A</td>\n",
       "      <td>Downtown Toronto</td>\n",
       "      <td>Regent Park / Harbourfront</td>\n",
       "    </tr>\n",
       "    <tr>\n",
       "      <th>3</th>\n",
       "      <td>M6A</td>\n",
       "      <td>North York</td>\n",
       "      <td>Lawrence Manor / Lawrence Heights</td>\n",
       "    </tr>\n",
       "    <tr>\n",
       "      <th>4</th>\n",
       "      <td>M7A</td>\n",
       "      <td>Downtown Toronto</td>\n",
       "      <td>Queen's Park / Ontario Provincial Government</td>\n",
       "    </tr>\n",
       "  </tbody>\n",
       "</table>\n",
       "</div>"
      ],
      "text/plain": [
       "  Postal Code           Borough                                  Neighborhood\n",
       "0         M3A        North York                                     Parkwoods\n",
       "1         M4A        North York                              Victoria Village\n",
       "2         M5A  Downtown Toronto                    Regent Park / Harbourfront\n",
       "3         M6A        North York             Lawrence Manor / Lawrence Heights\n",
       "4         M7A  Downtown Toronto  Queen's Park / Ontario Provincial Government"
      ]
     },
     "execution_count": 5,
     "metadata": {},
     "output_type": "execute_result"
    }
   ],
   "source": [
    "df['Neighborhood'].replace('Not assigned', df.loc[df[df['Neighborhood']=='Not assigned'].index.values,'Borough'], inplace=True)\n",
    "df.head()"
   ]
  },
  {
   "cell_type": "markdown",
   "metadata": {},
   "source": [
    "**Print the number of rows and columns of the dataframe**"
   ]
  },
  {
   "cell_type": "code",
   "execution_count": 6,
   "metadata": {},
   "outputs": [
    {
     "name": "stdout",
     "output_type": "stream",
     "text": [
      "There are 103 rows & 3 columns in the dataframe.\n"
     ]
    }
   ],
   "source": [
    "print('There are {} rows & {} columns in the dataframe.'.format(df.shape[0], df.shape[1]))"
   ]
  },
  {
   "cell_type": "markdown",
   "metadata": {},
   "source": [
    "-----\n",
    "# Part 2. Adding Coordinates into the dataframe"
   ]
  },
  {
   "cell_type": "markdown",
   "metadata": {},
   "source": [
    "**Since geocoder is not working anymore, due to google map Api new requirements, use the coordinates csv file instead**"
   ]
  },
  {
   "cell_type": "code",
   "execution_count": 7,
   "metadata": {},
   "outputs": [
    {
     "data": {
      "text/html": [
       "<div>\n",
       "<style scoped>\n",
       "    .dataframe tbody tr th:only-of-type {\n",
       "        vertical-align: middle;\n",
       "    }\n",
       "\n",
       "    .dataframe tbody tr th {\n",
       "        vertical-align: top;\n",
       "    }\n",
       "\n",
       "    .dataframe thead th {\n",
       "        text-align: right;\n",
       "    }\n",
       "</style>\n",
       "<table border=\"1\" class=\"dataframe\">\n",
       "  <thead>\n",
       "    <tr style=\"text-align: right;\">\n",
       "      <th></th>\n",
       "      <th>Postal Code</th>\n",
       "      <th>Latitude</th>\n",
       "      <th>Longitude</th>\n",
       "    </tr>\n",
       "  </thead>\n",
       "  <tbody>\n",
       "    <tr>\n",
       "      <th>0</th>\n",
       "      <td>M1B</td>\n",
       "      <td>43.806686</td>\n",
       "      <td>-79.194353</td>\n",
       "    </tr>\n",
       "    <tr>\n",
       "      <th>1</th>\n",
       "      <td>M1C</td>\n",
       "      <td>43.784535</td>\n",
       "      <td>-79.160497</td>\n",
       "    </tr>\n",
       "    <tr>\n",
       "      <th>2</th>\n",
       "      <td>M1E</td>\n",
       "      <td>43.763573</td>\n",
       "      <td>-79.188711</td>\n",
       "    </tr>\n",
       "    <tr>\n",
       "      <th>3</th>\n",
       "      <td>M1G</td>\n",
       "      <td>43.770992</td>\n",
       "      <td>-79.216917</td>\n",
       "    </tr>\n",
       "    <tr>\n",
       "      <th>4</th>\n",
       "      <td>M1H</td>\n",
       "      <td>43.773136</td>\n",
       "      <td>-79.239476</td>\n",
       "    </tr>\n",
       "  </tbody>\n",
       "</table>\n",
       "</div>"
      ],
      "text/plain": [
       "  Postal Code   Latitude  Longitude\n",
       "0         M1B  43.806686 -79.194353\n",
       "1         M1C  43.784535 -79.160497\n",
       "2         M1E  43.763573 -79.188711\n",
       "3         M1G  43.770992 -79.216917\n",
       "4         M1H  43.773136 -79.239476"
      ]
     },
     "execution_count": 7,
     "metadata": {},
     "output_type": "execute_result"
    }
   ],
   "source": [
    "df_coords = pd.read_csv('Geospatial_Coordinates.csv')\n",
    "df_coords.head()"
   ]
  },
  {
   "cell_type": "markdown",
   "metadata": {},
   "source": [
    "**Merge the two dataframes by joining them on `Postal code`**"
   ]
  },
  {
   "cell_type": "code",
   "execution_count": 8,
   "metadata": {},
   "outputs": [
    {
     "data": {
      "text/html": [
       "<div>\n",
       "<style scoped>\n",
       "    .dataframe tbody tr th:only-of-type {\n",
       "        vertical-align: middle;\n",
       "    }\n",
       "\n",
       "    .dataframe tbody tr th {\n",
       "        vertical-align: top;\n",
       "    }\n",
       "\n",
       "    .dataframe thead th {\n",
       "        text-align: right;\n",
       "    }\n",
       "</style>\n",
       "<table border=\"1\" class=\"dataframe\">\n",
       "  <thead>\n",
       "    <tr style=\"text-align: right;\">\n",
       "      <th></th>\n",
       "      <th>Postal Code</th>\n",
       "      <th>Borough</th>\n",
       "      <th>Neighborhood</th>\n",
       "      <th>Latitude</th>\n",
       "      <th>Longitude</th>\n",
       "    </tr>\n",
       "  </thead>\n",
       "  <tbody>\n",
       "    <tr>\n",
       "      <th>0</th>\n",
       "      <td>M3A</td>\n",
       "      <td>North York</td>\n",
       "      <td>Parkwoods</td>\n",
       "      <td>43.753259</td>\n",
       "      <td>-79.329656</td>\n",
       "    </tr>\n",
       "    <tr>\n",
       "      <th>1</th>\n",
       "      <td>M4A</td>\n",
       "      <td>North York</td>\n",
       "      <td>Victoria Village</td>\n",
       "      <td>43.725882</td>\n",
       "      <td>-79.315572</td>\n",
       "    </tr>\n",
       "    <tr>\n",
       "      <th>2</th>\n",
       "      <td>M5A</td>\n",
       "      <td>Downtown Toronto</td>\n",
       "      <td>Regent Park / Harbourfront</td>\n",
       "      <td>43.654260</td>\n",
       "      <td>-79.360636</td>\n",
       "    </tr>\n",
       "    <tr>\n",
       "      <th>3</th>\n",
       "      <td>M6A</td>\n",
       "      <td>North York</td>\n",
       "      <td>Lawrence Manor / Lawrence Heights</td>\n",
       "      <td>43.718518</td>\n",
       "      <td>-79.464763</td>\n",
       "    </tr>\n",
       "    <tr>\n",
       "      <th>4</th>\n",
       "      <td>M7A</td>\n",
       "      <td>Downtown Toronto</td>\n",
       "      <td>Queen's Park / Ontario Provincial Government</td>\n",
       "      <td>43.662301</td>\n",
       "      <td>-79.389494</td>\n",
       "    </tr>\n",
       "  </tbody>\n",
       "</table>\n",
       "</div>"
      ],
      "text/plain": [
       "  Postal Code           Borough                                  Neighborhood  \\\n",
       "0         M3A        North York                                     Parkwoods   \n",
       "1         M4A        North York                              Victoria Village   \n",
       "2         M5A  Downtown Toronto                    Regent Park / Harbourfront   \n",
       "3         M6A        North York             Lawrence Manor / Lawrence Heights   \n",
       "4         M7A  Downtown Toronto  Queen's Park / Ontario Provincial Government   \n",
       "\n",
       "    Latitude  Longitude  \n",
       "0  43.753259 -79.329656  \n",
       "1  43.725882 -79.315572  \n",
       "2  43.654260 -79.360636  \n",
       "3  43.718518 -79.464763  \n",
       "4  43.662301 -79.389494  "
      ]
     },
     "execution_count": 8,
     "metadata": {},
     "output_type": "execute_result"
    }
   ],
   "source": [
    "df = df.join(df_coords.set_index('Postal Code'), on='Postal Code')\n",
    "df.head()"
   ]
  },
  {
   "cell_type": "markdown",
   "metadata": {},
   "source": [
    "-----\n",
    "# Part 3."
   ]
  },
  {
   "cell_type": "markdown",
   "metadata": {},
   "source": [
    "**Import libraries that will be used in this section**"
   ]
  },
  {
   "cell_type": "code",
   "execution_count": 9,
   "metadata": {},
   "outputs": [],
   "source": [
    "import requests\n",
    "import pandas as pd\n",
    "import numpy as np\n",
    "import folium\n",
    "from sklearn.cluster import KMeans\n",
    "import matplotlib.pyplot as plt\n",
    "from geopy.geocoders import Nominatim"
   ]
  },
  {
   "cell_type": "markdown",
   "metadata": {},
   "source": [
    "**Credentials for Foursquare API**"
   ]
  },
  {
   "cell_type": "code",
   "execution_count": 10,
   "metadata": {},
   "outputs": [],
   "source": [
    "CLIENT_ID = 'TI3SF1B1BO0MKCKJ2ZIAKDL3RDUFBO11YUB5VYXIKUCE2AQQ'\n",
    "CLIENT_SECRET = 'VZPPBLWMEUHQENW1WP5E50Q1UVCPYG3DZKSOA3WGZIP4YKRJ'\n",
    "VERSION = '20180604'\n",
    "LIMIT = 100\n",
    "radius = 500"
   ]
  },
  {
   "cell_type": "markdown",
   "metadata": {},
   "source": [
    "**Pull venues data from Foursquare and combine it into the dataframe**"
   ]
  },
  {
   "cell_type": "code",
   "execution_count": 11,
   "metadata": {
    "scrolled": true
   },
   "outputs": [
    {
     "name": "stdout",
     "output_type": "stream",
     "text": [
      "1. M3A - Parkwoods - [North York]\n",
      "2. M4A - Victoria Village - [North York]\n",
      "3. M5A - Regent Park / Harbourfront - [Downtown Toronto]\n",
      "4. M6A - Lawrence Manor / Lawrence Heights - [North York]\n",
      "5. M7A - Queen's Park / Ontario Provincial Government - [Downtown Toronto]\n",
      "6. M9A - Islington Avenue - [Etobicoke]\n",
      "7. M1B - Malvern / Rouge - [Scarborough]\n",
      "8. M3B - Don Mills - [North York]\n",
      "9. M4B - Parkview Hill / Woodbine Gardens - [East York]\n",
      "10. M5B - Garden District / Ryerson - [Downtown Toronto]\n",
      "11. M6B - Glencairn - [North York]\n",
      "12. M9B - West Deane Park / Princess Gardens / Martin Grove / Islington / Cloverdale - [Etobicoke]\n",
      "13. M1C - Rouge Hill / Port Union / Highland Creek - [Scarborough]\n",
      "14. M3C - Don Mills - [North York]\n",
      "15. M4C - Woodbine Heights - [East York]\n",
      "16. M5C - St. James Town - [Downtown Toronto]\n",
      "17. M6C - Humewood-Cedarvale - [York]\n",
      "18. M9C - Eringate / Bloordale Gardens / Old Burnhamthorpe / Markland Wood - [Etobicoke]\n",
      "19. M1E - Guildwood / Morningside / West Hill - [Scarborough]\n",
      "20. M4E - The Beaches - [East Toronto]\n",
      "21. M5E - Berczy Park - [Downtown Toronto]\n",
      "22. M6E - Caledonia-Fairbanks - [York]\n",
      "23. M1G - Woburn - [Scarborough]\n",
      "24. M4G - Leaside - [East York]\n",
      "25. M5G - Central Bay Street - [Downtown Toronto]\n",
      "26. M6G - Christie - [Downtown Toronto]\n",
      "27. M1H - Cedarbrae - [Scarborough]\n",
      "28. M2H - Hillcrest Village - [North York]\n",
      "29. M3H - Bathurst Manor / Wilson Heights / Downsview North - [North York]\n",
      "30. M4H - Thorncliffe Park - [East York]\n",
      "31. M5H - Richmond / Adelaide / King - [Downtown Toronto]\n",
      "32. M6H - Dufferin / Dovercourt Village - [West Toronto]\n",
      "33. M1J - Scarborough Village - [Scarborough]\n",
      "34. M2J - Fairview / Henry Farm / Oriole - [North York]\n",
      "35. M3J - Northwood Park / York University - [North York]\n",
      "36. M4J - East Toronto - [East York]\n",
      "37. M5J - Harbourfront East / Union Station / Toronto Islands - [Downtown Toronto]\n",
      "38. M6J - Little Portugal / Trinity - [West Toronto]\n",
      "39. M1K - Kennedy Park / Ionview / East Birchmount Park - [Scarborough]\n",
      "40. M2K - Bayview Village - [North York]\n",
      "41. M3K - Downsview - [North York]\n",
      "42. M4K - The Danforth West / Riverdale - [East Toronto]\n",
      "43. M5K - Toronto Dominion Centre / Design Exchange - [Downtown Toronto]\n",
      "44. M6K - Brockton / Parkdale Village / Exhibition Place - [West Toronto]\n",
      "45. M1L - Golden Mile / Clairlea / Oakridge - [Scarborough]\n",
      "46. M2L - York Mills / Silver Hills - [North York]\n",
      "47. M3L - Downsview - [North York]\n",
      "48. M4L - India Bazaar / The Beaches West - [East Toronto]\n",
      "49. M5L - Commerce Court / Victoria Hotel - [Downtown Toronto]\n",
      "50. M6L - North Park / Maple Leaf Park / Upwood Park - [North York]\n",
      "51. M9L - Humber Summit - [North York]\n",
      "52. M1M - Cliffside / Cliffcrest / Scarborough Village West - [Scarborough]\n",
      "53. M2M - Willowdale / Newtonbrook - [North York]\n",
      "54. M3M - Downsview - [North York]\n",
      "55. M4M - Studio District - [East Toronto]\n",
      "56. M5M - Bedford Park / Lawrence Manor East - [North York]\n",
      "57. M6M - Del Ray / Mount Dennis / Keelsdale and Silverthorn - [York]\n",
      "58. M9M - Humberlea / Emery - [North York]\n",
      "59. M1N - Birch Cliff / Cliffside West - [Scarborough]\n",
      "60. M2N - Willowdale - [North York]\n",
      "61. M3N - Downsview - [North York]\n",
      "62. M4N - Lawrence Park - [Central Toronto]\n",
      "63. M5N - Roselawn - [Central Toronto]\n",
      "64. M6N - Runnymede / The Junction North - [York]\n",
      "65. M9N - Weston - [York]\n",
      "66. M1P - Dorset Park / Wexford Heights / Scarborough Town Centre - [Scarborough]\n",
      "67. M2P - York Mills West - [North York]\n",
      "68. M4P - Davisville North - [Central Toronto]\n",
      "69. M5P - Forest Hill North & West - [Central Toronto]\n",
      "70. M6P - High Park / The Junction South - [West Toronto]\n",
      "71. M9P - Westmount - [Etobicoke]\n",
      "72. M1R - Wexford / Maryvale - [Scarborough]\n",
      "73. M2R - Willowdale - [North York]\n",
      "74. M4R - North Toronto West - [Central Toronto]\n",
      "75. M5R - The Annex / North Midtown / Yorkville - [Central Toronto]\n",
      "76. M6R - Parkdale / Roncesvalles - [West Toronto]\n",
      "77. M7R - Canada Post Gateway Processing Centre - [Mississauga]\n",
      "78. M9R - Kingsview Village / St. Phillips / Martin Grove Gardens / Richview Gardens - [Etobicoke]\n",
      "79. M1S - Agincourt - [Scarborough]\n",
      "80. M4S - Davisville - [Central Toronto]\n",
      "81. M5S - University of Toronto / Harbord - [Downtown Toronto]\n",
      "82. M6S - Runnymede / Swansea - [West Toronto]\n",
      "83. M1T - Clarks Corners / Tam O'Shanter / Sullivan - [Scarborough]\n",
      "84. M4T - Moore Park / Summerhill East - [Central Toronto]\n",
      "85. M5T - Kensington Market / Chinatown / Grange Park - [Downtown Toronto]\n",
      "86. M1V - Milliken / Agincourt North / Steeles East / L'Amoreaux East - [Scarborough]\n",
      "87. M4V - Summerhill West / Rathnelly / South Hill / Forest Hill SE / Deer Park - [Central Toronto]\n",
      "88. M5V - CN Tower / King and Spadina / Railway Lands / Harbourfront West / Bathurst Quay / South Niagara / Island airport - [Downtown Toronto]\n",
      "89. M8V - New Toronto / Mimico South / Humber Bay Shores - [Etobicoke]\n",
      "90. M9V - South Steeles / Silverstone / Humbergate / Jamestown / Mount Olive / Beaumond Heights / Thistletown / Albion Gardens - [Etobicoke]\n",
      "91. M1W - Steeles West / L'Amoreaux West - [Scarborough]\n",
      "92. M4W - Rosedale - [Downtown Toronto]\n",
      "93. M5W - Stn A PO Boxes - [Downtown Toronto]\n",
      "94. M8W - Alderwood / Long Branch - [Etobicoke]\n",
      "95. M9W - Northwest - [Etobicoke]\n",
      "96. M1X - Upper Rouge - [Scarborough]\n",
      "97. M4X - St. James Town / Cabbagetown - [Downtown Toronto]\n",
      "98. M5X - First Canadian Place / Underground city - [Downtown Toronto]\n",
      "99. M8X - The Kingsway / Montgomery Road / Old Mill North - [Etobicoke]\n",
      "100. M4Y - Church and Wellesley - [Downtown Toronto]\n",
      "101. M7Y - Business reply mail Processing Centre - [East Toronto]\n",
      "102. M8Y - Old Mill South / King's Mill Park / Sunnylea / Humber Bay / Mimico NE / The Queensway East / Royal York South East / Kingsway Park South East - [Etobicoke]\n",
      "103. M8Z - Mimico NW / The Queensway West / South of Bloor / Kingsway Park South West / Royal York South West - [Etobicoke]\n"
     ]
    },
    {
     "data": {
      "text/html": [
       "<div>\n",
       "<style scoped>\n",
       "    .dataframe tbody tr th:only-of-type {\n",
       "        vertical-align: middle;\n",
       "    }\n",
       "\n",
       "    .dataframe tbody tr th {\n",
       "        vertical-align: top;\n",
       "    }\n",
       "\n",
       "    .dataframe thead th {\n",
       "        text-align: right;\n",
       "    }\n",
       "</style>\n",
       "<table border=\"1\" class=\"dataframe\">\n",
       "  <thead>\n",
       "    <tr style=\"text-align: right;\">\n",
       "      <th></th>\n",
       "      <th>Postal Code</th>\n",
       "      <th>Neighborhoods</th>\n",
       "      <th>Neighborhood Latitude</th>\n",
       "      <th>Neighborhood Longitude</th>\n",
       "      <th>Borough</th>\n",
       "      <th>Venue</th>\n",
       "      <th>Venue Latitude</th>\n",
       "      <th>Venue Longitude</th>\n",
       "      <th>Venue Category</th>\n",
       "    </tr>\n",
       "  </thead>\n",
       "  <tbody>\n",
       "    <tr>\n",
       "      <th>0</th>\n",
       "      <td>M3A</td>\n",
       "      <td>Parkwoods</td>\n",
       "      <td>43.753259</td>\n",
       "      <td>-79.329656</td>\n",
       "      <td>North York</td>\n",
       "      <td>Brookbanks Park</td>\n",
       "      <td>43.751976</td>\n",
       "      <td>-79.332140</td>\n",
       "      <td>Park</td>\n",
       "    </tr>\n",
       "    <tr>\n",
       "      <th>1</th>\n",
       "      <td>M3A</td>\n",
       "      <td>Parkwoods</td>\n",
       "      <td>43.753259</td>\n",
       "      <td>-79.329656</td>\n",
       "      <td>North York</td>\n",
       "      <td>649 Variety</td>\n",
       "      <td>43.754513</td>\n",
       "      <td>-79.331942</td>\n",
       "      <td>Convenience Store</td>\n",
       "    </tr>\n",
       "    <tr>\n",
       "      <th>2</th>\n",
       "      <td>M3A</td>\n",
       "      <td>Parkwoods</td>\n",
       "      <td>43.753259</td>\n",
       "      <td>-79.329656</td>\n",
       "      <td>North York</td>\n",
       "      <td>Variety Store</td>\n",
       "      <td>43.751974</td>\n",
       "      <td>-79.333114</td>\n",
       "      <td>Food &amp; Drink Shop</td>\n",
       "    </tr>\n",
       "    <tr>\n",
       "      <th>3</th>\n",
       "      <td>M4A</td>\n",
       "      <td>Victoria Village</td>\n",
       "      <td>43.725882</td>\n",
       "      <td>-79.315572</td>\n",
       "      <td>North York</td>\n",
       "      <td>Victoria Village Arena</td>\n",
       "      <td>43.723481</td>\n",
       "      <td>-79.315635</td>\n",
       "      <td>Hockey Arena</td>\n",
       "    </tr>\n",
       "    <tr>\n",
       "      <th>4</th>\n",
       "      <td>M4A</td>\n",
       "      <td>Victoria Village</td>\n",
       "      <td>43.725882</td>\n",
       "      <td>-79.315572</td>\n",
       "      <td>North York</td>\n",
       "      <td>Tim Hortons</td>\n",
       "      <td>43.725517</td>\n",
       "      <td>-79.313103</td>\n",
       "      <td>Coffee Shop</td>\n",
       "    </tr>\n",
       "  </tbody>\n",
       "</table>\n",
       "</div>"
      ],
      "text/plain": [
       "  Postal Code     Neighborhoods  Neighborhood Latitude  \\\n",
       "0         M3A         Parkwoods              43.753259   \n",
       "1         M3A         Parkwoods              43.753259   \n",
       "2         M3A         Parkwoods              43.753259   \n",
       "3         M4A  Victoria Village              43.725882   \n",
       "4         M4A  Victoria Village              43.725882   \n",
       "\n",
       "   Neighborhood Longitude     Borough                   Venue  Venue Latitude  \\\n",
       "0              -79.329656  North York         Brookbanks Park       43.751976   \n",
       "1              -79.329656  North York             649 Variety       43.754513   \n",
       "2              -79.329656  North York           Variety Store       43.751974   \n",
       "3              -79.315572  North York  Victoria Village Arena       43.723481   \n",
       "4              -79.315572  North York             Tim Hortons       43.725517   \n",
       "\n",
       "   Venue Longitude     Venue Category  \n",
       "0       -79.332140               Park  \n",
       "1       -79.331942  Convenience Store  \n",
       "2       -79.333114  Food & Drink Shop  \n",
       "3       -79.315635       Hockey Arena  \n",
       "4       -79.313103        Coffee Shop  "
      ]
     },
     "execution_count": 11,
     "metadata": {},
     "output_type": "execute_result"
    }
   ],
   "source": [
    "venues_list=[]\n",
    "for i, row in df.iterrows():\n",
    "\n",
    "    lat = row['Latitude']\n",
    "    lng = row['Longitude']\n",
    "    \n",
    "    print(\"{}. {} - {} - [{}]\".format(i+1, row['Postal Code'], row['Neighborhood'], row['Borough']))\n",
    "    \n",
    "    url = ('https://api.foursquare.com/v2/venues/explore?client_id={}&client_secret={}&ll={},{}&v={}&radius={}&limit={}'\n",
    "       .format(CLIENT_ID, CLIENT_SECRET, lat, lng, VERSION, radius, LIMIT))\n",
    "    \n",
    "    results = requests.get(url).json()['response']['groups'][0]['items']\n",
    "    \n",
    "    venues_list.append([(row['Postal Code'], row['Neighborhood'], row['Latitude'], row['Longitude'], row['Borough'], \n",
    "                         v['venue']['name'], \n",
    "                         v['venue']['location']['lat'], \n",
    "                         v['venue']['location']['lng'],  \n",
    "                         v['venue']['categories'][0]['name']) for v in results])\n",
    "\n",
    "Toronto_venues = pd.DataFrame([item for venue in venues_list for item in venue])\n",
    "\n",
    "Toronto_venues.columns = ['Postal Code',\n",
    "                          'Neighborhoods', \n",
    "                          'Neighborhood Latitude', \n",
    "                          'Neighborhood Longitude',\n",
    "                          'Borough',\n",
    "                          'Venue', \n",
    "                          'Venue Latitude', \n",
    "                          'Venue Longitude', \n",
    "                          'Venue Category']\n",
    "Toronto_venues.head()"
   ]
  },
  {
   "cell_type": "markdown",
   "metadata": {},
   "source": [
    "**Perform one hot coding on the venues**"
   ]
  },
  {
   "cell_type": "code",
   "execution_count": 12,
   "metadata": {},
   "outputs": [
    {
     "data": {
      "text/html": [
       "<div>\n",
       "<style scoped>\n",
       "    .dataframe tbody tr th:only-of-type {\n",
       "        vertical-align: middle;\n",
       "    }\n",
       "\n",
       "    .dataframe tbody tr th {\n",
       "        vertical-align: top;\n",
       "    }\n",
       "\n",
       "    .dataframe thead th {\n",
       "        text-align: right;\n",
       "    }\n",
       "</style>\n",
       "<table border=\"1\" class=\"dataframe\">\n",
       "  <thead>\n",
       "    <tr style=\"text-align: right;\">\n",
       "      <th></th>\n",
       "      <th>Postal Code</th>\n",
       "      <th>Neighborhoods</th>\n",
       "      <th>Accessories Store</th>\n",
       "      <th>Afghan Restaurant</th>\n",
       "      <th>Airport</th>\n",
       "      <th>Airport Food Court</th>\n",
       "      <th>Airport Gate</th>\n",
       "      <th>Airport Lounge</th>\n",
       "      <th>Airport Service</th>\n",
       "      <th>Airport Terminal</th>\n",
       "      <th>...</th>\n",
       "      <th>Train Station</th>\n",
       "      <th>Vegetarian / Vegan Restaurant</th>\n",
       "      <th>Video Game Store</th>\n",
       "      <th>Video Store</th>\n",
       "      <th>Vietnamese Restaurant</th>\n",
       "      <th>Warehouse Store</th>\n",
       "      <th>Wine Bar</th>\n",
       "      <th>Wings Joint</th>\n",
       "      <th>Women's Store</th>\n",
       "      <th>Yoga Studio</th>\n",
       "    </tr>\n",
       "  </thead>\n",
       "  <tbody>\n",
       "    <tr>\n",
       "      <th>0</th>\n",
       "      <td>M3A</td>\n",
       "      <td>Parkwoods</td>\n",
       "      <td>0</td>\n",
       "      <td>0</td>\n",
       "      <td>0</td>\n",
       "      <td>0</td>\n",
       "      <td>0</td>\n",
       "      <td>0</td>\n",
       "      <td>0</td>\n",
       "      <td>0</td>\n",
       "      <td>...</td>\n",
       "      <td>0</td>\n",
       "      <td>0</td>\n",
       "      <td>0</td>\n",
       "      <td>0</td>\n",
       "      <td>0</td>\n",
       "      <td>0</td>\n",
       "      <td>0</td>\n",
       "      <td>0</td>\n",
       "      <td>0</td>\n",
       "      <td>0</td>\n",
       "    </tr>\n",
       "    <tr>\n",
       "      <th>1</th>\n",
       "      <td>M3A</td>\n",
       "      <td>Parkwoods</td>\n",
       "      <td>0</td>\n",
       "      <td>0</td>\n",
       "      <td>0</td>\n",
       "      <td>0</td>\n",
       "      <td>0</td>\n",
       "      <td>0</td>\n",
       "      <td>0</td>\n",
       "      <td>0</td>\n",
       "      <td>...</td>\n",
       "      <td>0</td>\n",
       "      <td>0</td>\n",
       "      <td>0</td>\n",
       "      <td>0</td>\n",
       "      <td>0</td>\n",
       "      <td>0</td>\n",
       "      <td>0</td>\n",
       "      <td>0</td>\n",
       "      <td>0</td>\n",
       "      <td>0</td>\n",
       "    </tr>\n",
       "    <tr>\n",
       "      <th>2</th>\n",
       "      <td>M3A</td>\n",
       "      <td>Parkwoods</td>\n",
       "      <td>0</td>\n",
       "      <td>0</td>\n",
       "      <td>0</td>\n",
       "      <td>0</td>\n",
       "      <td>0</td>\n",
       "      <td>0</td>\n",
       "      <td>0</td>\n",
       "      <td>0</td>\n",
       "      <td>...</td>\n",
       "      <td>0</td>\n",
       "      <td>0</td>\n",
       "      <td>0</td>\n",
       "      <td>0</td>\n",
       "      <td>0</td>\n",
       "      <td>0</td>\n",
       "      <td>0</td>\n",
       "      <td>0</td>\n",
       "      <td>0</td>\n",
       "      <td>0</td>\n",
       "    </tr>\n",
       "    <tr>\n",
       "      <th>3</th>\n",
       "      <td>M4A</td>\n",
       "      <td>Victoria Village</td>\n",
       "      <td>0</td>\n",
       "      <td>0</td>\n",
       "      <td>0</td>\n",
       "      <td>0</td>\n",
       "      <td>0</td>\n",
       "      <td>0</td>\n",
       "      <td>0</td>\n",
       "      <td>0</td>\n",
       "      <td>...</td>\n",
       "      <td>0</td>\n",
       "      <td>0</td>\n",
       "      <td>0</td>\n",
       "      <td>0</td>\n",
       "      <td>0</td>\n",
       "      <td>0</td>\n",
       "      <td>0</td>\n",
       "      <td>0</td>\n",
       "      <td>0</td>\n",
       "      <td>0</td>\n",
       "    </tr>\n",
       "    <tr>\n",
       "      <th>4</th>\n",
       "      <td>M4A</td>\n",
       "      <td>Victoria Village</td>\n",
       "      <td>0</td>\n",
       "      <td>0</td>\n",
       "      <td>0</td>\n",
       "      <td>0</td>\n",
       "      <td>0</td>\n",
       "      <td>0</td>\n",
       "      <td>0</td>\n",
       "      <td>0</td>\n",
       "      <td>...</td>\n",
       "      <td>0</td>\n",
       "      <td>0</td>\n",
       "      <td>0</td>\n",
       "      <td>0</td>\n",
       "      <td>0</td>\n",
       "      <td>0</td>\n",
       "      <td>0</td>\n",
       "      <td>0</td>\n",
       "      <td>0</td>\n",
       "      <td>0</td>\n",
       "    </tr>\n",
       "  </tbody>\n",
       "</table>\n",
       "<p>5 rows × 268 columns</p>\n",
       "</div>"
      ],
      "text/plain": [
       "  Postal Code     Neighborhoods  Accessories Store  Afghan Restaurant  \\\n",
       "0         M3A         Parkwoods                  0                  0   \n",
       "1         M3A         Parkwoods                  0                  0   \n",
       "2         M3A         Parkwoods                  0                  0   \n",
       "3         M4A  Victoria Village                  0                  0   \n",
       "4         M4A  Victoria Village                  0                  0   \n",
       "\n",
       "   Airport  Airport Food Court  Airport Gate  Airport Lounge  Airport Service  \\\n",
       "0        0                   0             0               0                0   \n",
       "1        0                   0             0               0                0   \n",
       "2        0                   0             0               0                0   \n",
       "3        0                   0             0               0                0   \n",
       "4        0                   0             0               0                0   \n",
       "\n",
       "   Airport Terminal  ...  Train Station  Vegetarian / Vegan Restaurant  \\\n",
       "0                 0  ...              0                              0   \n",
       "1                 0  ...              0                              0   \n",
       "2                 0  ...              0                              0   \n",
       "3                 0  ...              0                              0   \n",
       "4                 0  ...              0                              0   \n",
       "\n",
       "   Video Game Store  Video Store  Vietnamese Restaurant  Warehouse Store  \\\n",
       "0                 0            0                      0                0   \n",
       "1                 0            0                      0                0   \n",
       "2                 0            0                      0                0   \n",
       "3                 0            0                      0                0   \n",
       "4                 0            0                      0                0   \n",
       "\n",
       "   Wine Bar  Wings Joint  Women's Store  Yoga Studio  \n",
       "0         0            0              0            0  \n",
       "1         0            0              0            0  \n",
       "2         0            0              0            0  \n",
       "3         0            0              0            0  \n",
       "4         0            0              0            0  \n",
       "\n",
       "[5 rows x 268 columns]"
      ]
     },
     "execution_count": 12,
     "metadata": {},
     "output_type": "execute_result"
    }
   ],
   "source": [
    "Toronto_venues_ohc = pd.concat([Toronto_venues[['Postal Code', 'Neighborhoods']], pd.get_dummies(Toronto_venues['Venue Category'])], axis=1)\n",
    "Toronto_venues_ohc.head()"
   ]
  },
  {
   "cell_type": "markdown",
   "metadata": {},
   "source": [
    "**Group the dataframe according to `Postal Code`, get the percentage of venue categories' popularity**"
   ]
  },
  {
   "cell_type": "code",
   "execution_count": 13,
   "metadata": {},
   "outputs": [
    {
     "data": {
      "text/html": [
       "<div>\n",
       "<style scoped>\n",
       "    .dataframe tbody tr th:only-of-type {\n",
       "        vertical-align: middle;\n",
       "    }\n",
       "\n",
       "    .dataframe tbody tr th {\n",
       "        vertical-align: top;\n",
       "    }\n",
       "\n",
       "    .dataframe thead th {\n",
       "        text-align: right;\n",
       "    }\n",
       "</style>\n",
       "<table border=\"1\" class=\"dataframe\">\n",
       "  <thead>\n",
       "    <tr style=\"text-align: right;\">\n",
       "      <th></th>\n",
       "      <th>Postal Code</th>\n",
       "      <th>Accessories Store</th>\n",
       "      <th>Afghan Restaurant</th>\n",
       "      <th>Airport</th>\n",
       "      <th>Airport Food Court</th>\n",
       "      <th>Airport Gate</th>\n",
       "      <th>Airport Lounge</th>\n",
       "      <th>Airport Service</th>\n",
       "      <th>Airport Terminal</th>\n",
       "      <th>American Restaurant</th>\n",
       "      <th>...</th>\n",
       "      <th>Train Station</th>\n",
       "      <th>Vegetarian / Vegan Restaurant</th>\n",
       "      <th>Video Game Store</th>\n",
       "      <th>Video Store</th>\n",
       "      <th>Vietnamese Restaurant</th>\n",
       "      <th>Warehouse Store</th>\n",
       "      <th>Wine Bar</th>\n",
       "      <th>Wings Joint</th>\n",
       "      <th>Women's Store</th>\n",
       "      <th>Yoga Studio</th>\n",
       "    </tr>\n",
       "  </thead>\n",
       "  <tbody>\n",
       "    <tr>\n",
       "      <th>0</th>\n",
       "      <td>M1B</td>\n",
       "      <td>0.0</td>\n",
       "      <td>0.0</td>\n",
       "      <td>0.0</td>\n",
       "      <td>0.0</td>\n",
       "      <td>0.0</td>\n",
       "      <td>0.0</td>\n",
       "      <td>0.0</td>\n",
       "      <td>0.0</td>\n",
       "      <td>0.0</td>\n",
       "      <td>...</td>\n",
       "      <td>0.0</td>\n",
       "      <td>0.0</td>\n",
       "      <td>0.0</td>\n",
       "      <td>0.0</td>\n",
       "      <td>0.0</td>\n",
       "      <td>0.0</td>\n",
       "      <td>0.0</td>\n",
       "      <td>0.0</td>\n",
       "      <td>0.0</td>\n",
       "      <td>0.0</td>\n",
       "    </tr>\n",
       "    <tr>\n",
       "      <th>1</th>\n",
       "      <td>M1C</td>\n",
       "      <td>0.0</td>\n",
       "      <td>0.0</td>\n",
       "      <td>0.0</td>\n",
       "      <td>0.0</td>\n",
       "      <td>0.0</td>\n",
       "      <td>0.0</td>\n",
       "      <td>0.0</td>\n",
       "      <td>0.0</td>\n",
       "      <td>0.0</td>\n",
       "      <td>...</td>\n",
       "      <td>0.0</td>\n",
       "      <td>0.0</td>\n",
       "      <td>0.0</td>\n",
       "      <td>0.0</td>\n",
       "      <td>0.0</td>\n",
       "      <td>0.0</td>\n",
       "      <td>0.0</td>\n",
       "      <td>0.0</td>\n",
       "      <td>0.0</td>\n",
       "      <td>0.0</td>\n",
       "    </tr>\n",
       "    <tr>\n",
       "      <th>2</th>\n",
       "      <td>M1E</td>\n",
       "      <td>0.0</td>\n",
       "      <td>0.0</td>\n",
       "      <td>0.0</td>\n",
       "      <td>0.0</td>\n",
       "      <td>0.0</td>\n",
       "      <td>0.0</td>\n",
       "      <td>0.0</td>\n",
       "      <td>0.0</td>\n",
       "      <td>0.0</td>\n",
       "      <td>...</td>\n",
       "      <td>0.0</td>\n",
       "      <td>0.0</td>\n",
       "      <td>0.0</td>\n",
       "      <td>0.0</td>\n",
       "      <td>0.0</td>\n",
       "      <td>0.0</td>\n",
       "      <td>0.0</td>\n",
       "      <td>0.0</td>\n",
       "      <td>0.0</td>\n",
       "      <td>0.0</td>\n",
       "    </tr>\n",
       "    <tr>\n",
       "      <th>3</th>\n",
       "      <td>M1G</td>\n",
       "      <td>0.0</td>\n",
       "      <td>0.0</td>\n",
       "      <td>0.0</td>\n",
       "      <td>0.0</td>\n",
       "      <td>0.0</td>\n",
       "      <td>0.0</td>\n",
       "      <td>0.0</td>\n",
       "      <td>0.0</td>\n",
       "      <td>0.0</td>\n",
       "      <td>...</td>\n",
       "      <td>0.0</td>\n",
       "      <td>0.0</td>\n",
       "      <td>0.0</td>\n",
       "      <td>0.0</td>\n",
       "      <td>0.0</td>\n",
       "      <td>0.0</td>\n",
       "      <td>0.0</td>\n",
       "      <td>0.0</td>\n",
       "      <td>0.0</td>\n",
       "      <td>0.0</td>\n",
       "    </tr>\n",
       "    <tr>\n",
       "      <th>4</th>\n",
       "      <td>M1H</td>\n",
       "      <td>0.0</td>\n",
       "      <td>0.0</td>\n",
       "      <td>0.0</td>\n",
       "      <td>0.0</td>\n",
       "      <td>0.0</td>\n",
       "      <td>0.0</td>\n",
       "      <td>0.0</td>\n",
       "      <td>0.0</td>\n",
       "      <td>0.0</td>\n",
       "      <td>...</td>\n",
       "      <td>0.0</td>\n",
       "      <td>0.0</td>\n",
       "      <td>0.0</td>\n",
       "      <td>0.0</td>\n",
       "      <td>0.0</td>\n",
       "      <td>0.0</td>\n",
       "      <td>0.0</td>\n",
       "      <td>0.0</td>\n",
       "      <td>0.0</td>\n",
       "      <td>0.0</td>\n",
       "    </tr>\n",
       "  </tbody>\n",
       "</table>\n",
       "<p>5 rows × 267 columns</p>\n",
       "</div>"
      ],
      "text/plain": [
       "  Postal Code  Accessories Store  Afghan Restaurant  Airport  \\\n",
       "0         M1B                0.0                0.0      0.0   \n",
       "1         M1C                0.0                0.0      0.0   \n",
       "2         M1E                0.0                0.0      0.0   \n",
       "3         M1G                0.0                0.0      0.0   \n",
       "4         M1H                0.0                0.0      0.0   \n",
       "\n",
       "   Airport Food Court  Airport Gate  Airport Lounge  Airport Service  \\\n",
       "0                 0.0           0.0             0.0              0.0   \n",
       "1                 0.0           0.0             0.0              0.0   \n",
       "2                 0.0           0.0             0.0              0.0   \n",
       "3                 0.0           0.0             0.0              0.0   \n",
       "4                 0.0           0.0             0.0              0.0   \n",
       "\n",
       "   Airport Terminal  American Restaurant  ...  Train Station  \\\n",
       "0               0.0                  0.0  ...            0.0   \n",
       "1               0.0                  0.0  ...            0.0   \n",
       "2               0.0                  0.0  ...            0.0   \n",
       "3               0.0                  0.0  ...            0.0   \n",
       "4               0.0                  0.0  ...            0.0   \n",
       "\n",
       "   Vegetarian / Vegan Restaurant  Video Game Store  Video Store  \\\n",
       "0                            0.0               0.0          0.0   \n",
       "1                            0.0               0.0          0.0   \n",
       "2                            0.0               0.0          0.0   \n",
       "3                            0.0               0.0          0.0   \n",
       "4                            0.0               0.0          0.0   \n",
       "\n",
       "   Vietnamese Restaurant  Warehouse Store  Wine Bar  Wings Joint  \\\n",
       "0                    0.0              0.0       0.0          0.0   \n",
       "1                    0.0              0.0       0.0          0.0   \n",
       "2                    0.0              0.0       0.0          0.0   \n",
       "3                    0.0              0.0       0.0          0.0   \n",
       "4                    0.0              0.0       0.0          0.0   \n",
       "\n",
       "   Women's Store  Yoga Studio  \n",
       "0            0.0          0.0  \n",
       "1            0.0          0.0  \n",
       "2            0.0          0.0  \n",
       "3            0.0          0.0  \n",
       "4            0.0          0.0  \n",
       "\n",
       "[5 rows x 267 columns]"
      ]
     },
     "execution_count": 13,
     "metadata": {},
     "output_type": "execute_result"
    }
   ],
   "source": [
    "Toronto_grouped = Toronto_venues_ohc.groupby('Postal Code').mean().reset_index()\n",
    "Toronto_grouped.head()"
   ]
  },
  {
   "cell_type": "markdown",
   "metadata": {},
   "source": [
    "**Sort the venue categories according to their popularity, create a new dataframe for top 10 most commonly visited venues**"
   ]
  },
  {
   "cell_type": "code",
   "execution_count": 14,
   "metadata": {},
   "outputs": [
    {
     "data": {
      "text/html": [
       "<div>\n",
       "<style scoped>\n",
       "    .dataframe tbody tr th:only-of-type {\n",
       "        vertical-align: middle;\n",
       "    }\n",
       "\n",
       "    .dataframe tbody tr th {\n",
       "        vertical-align: top;\n",
       "    }\n",
       "\n",
       "    .dataframe thead th {\n",
       "        text-align: right;\n",
       "    }\n",
       "</style>\n",
       "<table border=\"1\" class=\"dataframe\">\n",
       "  <thead>\n",
       "    <tr style=\"text-align: right;\">\n",
       "      <th></th>\n",
       "      <th>Postal Code</th>\n",
       "      <th>No.1 Most common Venue</th>\n",
       "      <th>No.2 Most common Venue</th>\n",
       "      <th>No.3 Most common Venue</th>\n",
       "      <th>No.4 Most common Venue</th>\n",
       "      <th>No.5 Most common Venue</th>\n",
       "      <th>No.6 Most common Venue</th>\n",
       "      <th>No.7 Most common Venue</th>\n",
       "      <th>No.8 Most common Venue</th>\n",
       "      <th>No.9 Most common Venue</th>\n",
       "      <th>No.10 Most common Venue</th>\n",
       "    </tr>\n",
       "  </thead>\n",
       "  <tbody>\n",
       "    <tr>\n",
       "      <th>0</th>\n",
       "      <td>M1B</td>\n",
       "      <td>Fast Food Restaurant</td>\n",
       "      <td>Deli / Bodega</td>\n",
       "      <td>Event Space</td>\n",
       "      <td>Ethiopian Restaurant</td>\n",
       "      <td>Electronics Store</td>\n",
       "      <td>Eastern European Restaurant</td>\n",
       "      <td>Drugstore</td>\n",
       "      <td>Donut Shop</td>\n",
       "      <td>Doner Restaurant</td>\n",
       "      <td>Dog Run</td>\n",
       "    </tr>\n",
       "    <tr>\n",
       "      <th>1</th>\n",
       "      <td>M1C</td>\n",
       "      <td>Golf Course</td>\n",
       "      <td>Moving Target</td>\n",
       "      <td>Bar</td>\n",
       "      <td>Yoga Studio</td>\n",
       "      <td>Discount Store</td>\n",
       "      <td>Department Store</td>\n",
       "      <td>Dessert Shop</td>\n",
       "      <td>Dim Sum Restaurant</td>\n",
       "      <td>Diner</td>\n",
       "      <td>Distribution Center</td>\n",
       "    </tr>\n",
       "    <tr>\n",
       "      <th>2</th>\n",
       "      <td>M1E</td>\n",
       "      <td>Rental Car Location</td>\n",
       "      <td>Mexican Restaurant</td>\n",
       "      <td>Breakfast Spot</td>\n",
       "      <td>Medical Center</td>\n",
       "      <td>Intersection</td>\n",
       "      <td>Bank</td>\n",
       "      <td>Electronics Store</td>\n",
       "      <td>Convenience Store</td>\n",
       "      <td>Convention Center</td>\n",
       "      <td>Eastern European Restaurant</td>\n",
       "    </tr>\n",
       "    <tr>\n",
       "      <th>3</th>\n",
       "      <td>M1G</td>\n",
       "      <td>Coffee Shop</td>\n",
       "      <td>Indian Restaurant</td>\n",
       "      <td>Korean Restaurant</td>\n",
       "      <td>Dog Run</td>\n",
       "      <td>Dessert Shop</td>\n",
       "      <td>Dim Sum Restaurant</td>\n",
       "      <td>Diner</td>\n",
       "      <td>Discount Store</td>\n",
       "      <td>Distribution Center</td>\n",
       "      <td>Yoga Studio</td>\n",
       "    </tr>\n",
       "    <tr>\n",
       "      <th>4</th>\n",
       "      <td>M1H</td>\n",
       "      <td>Fried Chicken Joint</td>\n",
       "      <td>Gas Station</td>\n",
       "      <td>Bakery</td>\n",
       "      <td>Hakka Restaurant</td>\n",
       "      <td>Bank</td>\n",
       "      <td>Athletics &amp; Sports</td>\n",
       "      <td>Caribbean Restaurant</td>\n",
       "      <td>Thai Restaurant</td>\n",
       "      <td>Dessert Shop</td>\n",
       "      <td>Dim Sum Restaurant</td>\n",
       "    </tr>\n",
       "  </tbody>\n",
       "</table>\n",
       "</div>"
      ],
      "text/plain": [
       "  Postal Code No.1 Most common Venue No.2 Most common Venue  \\\n",
       "0         M1B   Fast Food Restaurant          Deli / Bodega   \n",
       "1         M1C            Golf Course          Moving Target   \n",
       "2         M1E    Rental Car Location     Mexican Restaurant   \n",
       "3         M1G            Coffee Shop      Indian Restaurant   \n",
       "4         M1H    Fried Chicken Joint            Gas Station   \n",
       "\n",
       "  No.3 Most common Venue No.4 Most common Venue No.5 Most common Venue  \\\n",
       "0            Event Space   Ethiopian Restaurant      Electronics Store   \n",
       "1                    Bar            Yoga Studio         Discount Store   \n",
       "2         Breakfast Spot         Medical Center           Intersection   \n",
       "3      Korean Restaurant                Dog Run           Dessert Shop   \n",
       "4                 Bakery       Hakka Restaurant                   Bank   \n",
       "\n",
       "        No.6 Most common Venue No.7 Most common Venue No.8 Most common Venue  \\\n",
       "0  Eastern European Restaurant              Drugstore             Donut Shop   \n",
       "1             Department Store           Dessert Shop     Dim Sum Restaurant   \n",
       "2                         Bank      Electronics Store      Convenience Store   \n",
       "3           Dim Sum Restaurant                  Diner         Discount Store   \n",
       "4           Athletics & Sports   Caribbean Restaurant        Thai Restaurant   \n",
       "\n",
       "  No.9 Most common Venue      No.10 Most common Venue  \n",
       "0       Doner Restaurant                      Dog Run  \n",
       "1                  Diner          Distribution Center  \n",
       "2      Convention Center  Eastern European Restaurant  \n",
       "3    Distribution Center                  Yoga Studio  \n",
       "4           Dessert Shop           Dim Sum Restaurant  "
      ]
     },
     "execution_count": 14,
     "metadata": {},
     "output_type": "execute_result"
    }
   ],
   "source": [
    "# getting top 10 venues for each neighborhood\n",
    "col_label = ['Postal Code']\n",
    "for i in np.arange(1,11,1):\n",
    "    col_label.append('No.{} Most common Venue'.format(i))\n",
    "\n",
    "Toronto_top_10 = pd.DataFrame()\n",
    "\n",
    "for i, row in Toronto_grouped.iterrows():\n",
    "    row_val = pd.Series([Toronto_grouped.iloc[i,0]] + (Toronto_grouped.iloc[i].iloc[1:].sort_values(ascending=False).head(10).index.tolist()))\n",
    "\n",
    "    Toronto_top_10 = Toronto_top_10.append(row_val,ignore_index=True)\n",
    "\n",
    "Toronto_top_10.columns = col_label\n",
    "Toronto_top_10.head()"
   ]
  },
  {
   "cell_type": "markdown",
   "metadata": {},
   "source": [
    "**Using K-Means Clustering to cluster the neighborhoods according to their top 10 most commonly visited places**  \n",
    "1st, we need to find out the **best k** using **`SSE`**"
   ]
  },
  {
   "cell_type": "code",
   "execution_count": 15,
   "metadata": {},
   "outputs": [],
   "source": [
    "feat = Toronto_grouped.drop('Postal Code', axis=1)\n",
    "\n",
    "sse_list = []\n",
    "for k in np.arange(1,26):\n",
    "    kmeans = KMeans(n_clusters=k , n_init=20).fit(feat)\n",
    "    \n",
    "    sse_list.append(kmeans.inertia_)"
   ]
  },
  {
   "cell_type": "markdown",
   "metadata": {},
   "source": [
    "Visualize the SSE"
   ]
  },
  {
   "cell_type": "code",
   "execution_count": 16,
   "metadata": {},
   "outputs": [
    {
     "data": {
      "image/png": "[encoded data removed]",
      "text/plain": [
       "<Figure size 576x360 with 1 Axes>"
      ]
     },
     "metadata": {
      "needs_background": "light"
     },
     "output_type": "display_data"
    }
   ],
   "source": [
    "plt.figure(figsize=(8,5))\n",
    "plt.plot(np.arange(1,26), sse_list)\n",
    "plt.xticks(np.arange(1,26), size=14)\n",
    "plt.yticks(size=14)\n",
    "plt.title('Choosing number of Clusters', size=20)\n",
    "plt.ylabel('Sum of Squared', size=16)\n",
    "plt.xlabel('Number of clusters', size=16)\n",
    "plt.show()"
   ]
  },
  {
   "cell_type": "markdown",
   "metadata": {},
   "source": [
    "It seems that 6 clusters is a good number of clusters"
   ]
  },
  {
   "cell_type": "markdown",
   "metadata": {},
   "source": [
    "**Initiate K-Means with 6 clusters and train the model, also create a copy of top 10 dataframe as clustered**"
   ]
  },
  {
   "cell_type": "code",
   "execution_count": 18,
   "metadata": {},
   "outputs": [],
   "source": [
    "kmeans = KMeans(n_clusters=6, n_init=20).fit(feat)\n",
    "Toronto_top_10_clustered = Toronto_top_10.copy()"
   ]
  },
  {
   "cell_type": "markdown",
   "metadata": {},
   "source": [
    "**remove non-retrievable locations from original dataframe and merge with clustered top 10 venues dataframe** (There are 5 locations that cannot be located using Foursquare API, it returns None)"
   ]
  },
  {
   "cell_type": "code",
   "execution_count": 19,
   "metadata": {},
   "outputs": [
    {
     "data": {
      "text/html": [
       "<div>\n",
       "<style scoped>\n",
       "    .dataframe tbody tr th:only-of-type {\n",
       "        vertical-align: middle;\n",
       "    }\n",
       "\n",
       "    .dataframe tbody tr th {\n",
       "        vertical-align: top;\n",
       "    }\n",
       "\n",
       "    .dataframe thead th {\n",
       "        text-align: right;\n",
       "    }\n",
       "</style>\n",
       "<table border=\"1\" class=\"dataframe\">\n",
       "  <thead>\n",
       "    <tr style=\"text-align: right;\">\n",
       "      <th></th>\n",
       "      <th>Postal Code</th>\n",
       "      <th>Borough</th>\n",
       "      <th>Neighborhoods</th>\n",
       "      <th>Latitude</th>\n",
       "      <th>Longitude</th>\n",
       "      <th>Cluster label</th>\n",
       "      <th>No.1 Most common Venue</th>\n",
       "      <th>No.2 Most common Venue</th>\n",
       "      <th>No.3 Most common Venue</th>\n",
       "      <th>No.4 Most common Venue</th>\n",
       "      <th>No.5 Most common Venue</th>\n",
       "      <th>No.6 Most common Venue</th>\n",
       "      <th>No.7 Most common Venue</th>\n",
       "      <th>No.8 Most common Venue</th>\n",
       "      <th>No.9 Most common Venue</th>\n",
       "      <th>No.10 Most common Venue</th>\n",
       "    </tr>\n",
       "  </thead>\n",
       "  <tbody>\n",
       "    <tr>\n",
       "      <th>0</th>\n",
       "      <td>M1B</td>\n",
       "      <td>Scarborough</td>\n",
       "      <td>Malvern / Rouge</td>\n",
       "      <td>43.8067</td>\n",
       "      <td>-79.1944</td>\n",
       "      <td>0</td>\n",
       "      <td>Fast Food Restaurant</td>\n",
       "      <td>Deli / Bodega</td>\n",
       "      <td>Event Space</td>\n",
       "      <td>Ethiopian Restaurant</td>\n",
       "      <td>Electronics Store</td>\n",
       "      <td>Eastern European Restaurant</td>\n",
       "      <td>Drugstore</td>\n",
       "      <td>Donut Shop</td>\n",
       "      <td>Doner Restaurant</td>\n",
       "      <td>Dog Run</td>\n",
       "    </tr>\n",
       "    <tr>\n",
       "      <th>1</th>\n",
       "      <td>M1C</td>\n",
       "      <td>Scarborough</td>\n",
       "      <td>Rouge Hill / Port Union / Highland Creek</td>\n",
       "      <td>43.7845</td>\n",
       "      <td>-79.1605</td>\n",
       "      <td>0</td>\n",
       "      <td>Golf Course</td>\n",
       "      <td>Moving Target</td>\n",
       "      <td>Bar</td>\n",
       "      <td>Yoga Studio</td>\n",
       "      <td>Discount Store</td>\n",
       "      <td>Department Store</td>\n",
       "      <td>Dessert Shop</td>\n",
       "      <td>Dim Sum Restaurant</td>\n",
       "      <td>Diner</td>\n",
       "      <td>Distribution Center</td>\n",
       "    </tr>\n",
       "    <tr>\n",
       "      <th>2</th>\n",
       "      <td>M1E</td>\n",
       "      <td>Scarborough</td>\n",
       "      <td>Guildwood / Morningside / West Hill</td>\n",
       "      <td>43.7636</td>\n",
       "      <td>-79.1887</td>\n",
       "      <td>0</td>\n",
       "      <td>Rental Car Location</td>\n",
       "      <td>Mexican Restaurant</td>\n",
       "      <td>Breakfast Spot</td>\n",
       "      <td>Medical Center</td>\n",
       "      <td>Intersection</td>\n",
       "      <td>Bank</td>\n",
       "      <td>Electronics Store</td>\n",
       "      <td>Convenience Store</td>\n",
       "      <td>Convention Center</td>\n",
       "      <td>Eastern European Restaurant</td>\n",
       "    </tr>\n",
       "    <tr>\n",
       "      <th>3</th>\n",
       "      <td>M1G</td>\n",
       "      <td>Scarborough</td>\n",
       "      <td>Woburn</td>\n",
       "      <td>43.771</td>\n",
       "      <td>-79.2169</td>\n",
       "      <td>0</td>\n",
       "      <td>Coffee Shop</td>\n",
       "      <td>Indian Restaurant</td>\n",
       "      <td>Korean Restaurant</td>\n",
       "      <td>Dog Run</td>\n",
       "      <td>Dessert Shop</td>\n",
       "      <td>Dim Sum Restaurant</td>\n",
       "      <td>Diner</td>\n",
       "      <td>Discount Store</td>\n",
       "      <td>Distribution Center</td>\n",
       "      <td>Yoga Studio</td>\n",
       "    </tr>\n",
       "    <tr>\n",
       "      <th>4</th>\n",
       "      <td>M1H</td>\n",
       "      <td>Scarborough</td>\n",
       "      <td>Cedarbrae</td>\n",
       "      <td>43.7731</td>\n",
       "      <td>-79.2395</td>\n",
       "      <td>0</td>\n",
       "      <td>Fried Chicken Joint</td>\n",
       "      <td>Gas Station</td>\n",
       "      <td>Bakery</td>\n",
       "      <td>Hakka Restaurant</td>\n",
       "      <td>Bank</td>\n",
       "      <td>Athletics &amp; Sports</td>\n",
       "      <td>Caribbean Restaurant</td>\n",
       "      <td>Thai Restaurant</td>\n",
       "      <td>Dessert Shop</td>\n",
       "      <td>Dim Sum Restaurant</td>\n",
       "    </tr>\n",
       "  </tbody>\n",
       "</table>\n",
       "</div>"
      ],
      "text/plain": [
       "  Postal Code      Borough                             Neighborhoods Latitude  \\\n",
       "0         M1B  Scarborough                           Malvern / Rouge  43.8067   \n",
       "1         M1C  Scarborough  Rouge Hill / Port Union / Highland Creek  43.7845   \n",
       "2         M1E  Scarborough       Guildwood / Morningside / West Hill  43.7636   \n",
       "3         M1G  Scarborough                                    Woburn   43.771   \n",
       "4         M1H  Scarborough                                 Cedarbrae  43.7731   \n",
       "\n",
       "  Longitude Cluster label No.1 Most common Venue No.2 Most common Venue  \\\n",
       "0  -79.1944             0   Fast Food Restaurant          Deli / Bodega   \n",
       "1  -79.1605             0            Golf Course          Moving Target   \n",
       "2  -79.1887             0    Rental Car Location     Mexican Restaurant   \n",
       "3  -79.2169             0            Coffee Shop      Indian Restaurant   \n",
       "4  -79.2395             0    Fried Chicken Joint            Gas Station   \n",
       "\n",
       "  No.3 Most common Venue No.4 Most common Venue No.5 Most common Venue  \\\n",
       "0            Event Space   Ethiopian Restaurant      Electronics Store   \n",
       "1                    Bar            Yoga Studio         Discount Store   \n",
       "2         Breakfast Spot         Medical Center           Intersection   \n",
       "3      Korean Restaurant                Dog Run           Dessert Shop   \n",
       "4                 Bakery       Hakka Restaurant                   Bank   \n",
       "\n",
       "        No.6 Most common Venue No.7 Most common Venue No.8 Most common Venue  \\\n",
       "0  Eastern European Restaurant              Drugstore             Donut Shop   \n",
       "1             Department Store           Dessert Shop     Dim Sum Restaurant   \n",
       "2                         Bank      Electronics Store      Convenience Store   \n",
       "3           Dim Sum Restaurant                  Diner         Discount Store   \n",
       "4           Athletics & Sports   Caribbean Restaurant        Thai Restaurant   \n",
       "\n",
       "  No.9 Most common Venue      No.10 Most common Venue  \n",
       "0       Doner Restaurant                      Dog Run  \n",
       "1                  Diner          Distribution Center  \n",
       "2      Convention Center  Eastern European Restaurant  \n",
       "3    Distribution Center                  Yoga Studio  \n",
       "4           Dessert Shop           Dim Sum Restaurant  "
      ]
     },
     "execution_count": 19,
     "metadata": {},
     "output_type": "execute_result"
    }
   ],
   "source": [
    "postal_list = []\n",
    "borough_list = []\n",
    "hood_list = []\n",
    "lat_list = []\n",
    "lng_list =[]\n",
    "for postal in Toronto_top_10_clustered['Postal Code'].values:\n",
    "    for i, row in df.iterrows():\n",
    "        if postal==row['Postal Code']:\n",
    "            postal_list.append(row['Postal Code'])\n",
    "            borough_list.append(row['Borough'])\n",
    "            hood_list.append(row['Neighborhood'])\n",
    "            lat_list.append(row['Latitude'])\n",
    "            lng_list.append(row['Longitude'])\n",
    "\n",
    "df_new = pd.DataFrame([postal_list,borough_list,hood_list,lat_list,lng_list, kmeans.labels_]).T\n",
    "df_new.columns = ['Postal Code','Borough','Neighborhoods', 'Latitude', 'Longitude', 'Cluster label']\n",
    "Toronto_top_10_clustered = df_new.join(Toronto_top_10_clustered.set_index('Postal Code'), on='Postal Code')\n",
    "Toronto_top_10_clustered.head()"
   ]
  },
  {
   "cell_type": "markdown",
   "metadata": {},
   "source": [
    "**Get coordinated of Toronto and create the map with its coordinates**"
   ]
  },
  {
   "cell_type": "code",
   "execution_count": 20,
   "metadata": {},
   "outputs": [],
   "source": [
    "geolocator = Nominatim(user_agent=\"foursquare_agent\")\n",
    "location = geolocator.geocode('Toronto, Ontario')\n",
    "latitude = location.latitude\n",
    "longitude = location.longitude\n",
    "\n",
    "map_clusters = folium.Map(location=[latitude, longitude], zoom_start=11)"
   ]
  },
  {
   "cell_type": "markdown",
   "metadata": {},
   "source": [
    "**Create 6 colors, plot each cluster as a different color using a Circle Marker with popup labels on each neighborhood**"
   ]
  },
  {
   "cell_type": "code",
   "execution_count": 21,
   "metadata": {},
   "outputs": [
    {
     "data": {
      "text/html": [
       "<div style=\"width:100%;\"><div style=\"position:relative;width:100%;height:0;padding-bottom:60%;\"><iframe src=\"about:blank\" style=\"position:absolute;width:100%;height:100%;left:0;top:0;border:none !important;\" data-html=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 onload=\"this.contentDocument.open();this.contentDocument.write(atob(this.getAttribute('data-html')));this.contentDocument.close();\" allowfullscreen webkitallowfullscreen mozallowfullscreen></iframe></div></div>"
      ],
      "text/plain": [
       "<folium.folium.Map at 0x15c840db370>"
      ]
     },
     "execution_count": 21,
     "metadata": {},
     "output_type": "execute_result"
    }
   ],
   "source": [
    "colors = ['red', 'blue', 'green', 'purple', 'orange', 'grey']\n",
    "for lat, lng, hood, label in zip(Toronto_top_10_clustered['Latitude'], Toronto_top_10_clustered['Longitude'], Toronto_top_10_clustered['Neighborhoods'], Toronto_top_10_clustered['Cluster label']):\n",
    "    \n",
    "    Cluster_label = folium.Popup(str(hood) + ' Cluster ' + str(label), parse_html=True)\n",
    "    \n",
    "    folium.CircleMarker([lat, lng],\n",
    "                        radius=5,\n",
    "                        popup=Cluster_label,\n",
    "                        color=colors[label],\n",
    "                        fill=True,\n",
    "                        fill_color=colors[label],\n",
    "                        fill_opacity=0.7\n",
    "                       ).add_to(map_clusters)\n",
    "map_clusters"
   ]
  },
  {
   "cell_type": "markdown",
   "metadata": {},
   "source": [
    "**Take a look at the number of neighborhoods in each cluster**"
   ]
  },
  {
   "cell_type": "code",
   "execution_count": 22,
   "metadata": {},
   "outputs": [
    {
     "data": {
      "text/plain": [
       "0    88\n",
       "1     1\n",
       "2     1\n",
       "3     4\n",
       "4     4\n",
       "5     2\n",
       "Name: Cluster label, dtype: int64"
      ]
     },
     "execution_count": 22,
     "metadata": {},
     "output_type": "execute_result"
    }
   ],
   "source": [
    "pd.set_option('display.max_rows', None)\n",
    "Toronto_top_10_clustered['Cluster label'].value_counts(sort=False)"
   ]
  },
  {
   "cell_type": "markdown",
   "metadata": {},
   "source": [
    "**Cluster 1**"
   ]
  },
  {
   "cell_type": "code",
   "execution_count": 23,
   "metadata": {},
   "outputs": [
    {
     "data": {
      "text/plain": [
       "Coffee Shop             18\n",
       "Park                     8\n",
       "Café                     8\n",
       "Grocery Store            5\n",
       "Pizza Place              5\n",
       "Clothing Store           4\n",
       "Gym                      4\n",
       "Rental Car Location      2\n",
       "Fast Food Restaurant     2\n",
       "Indian Restaurant        2\n",
       "Name: No.1 Most common Venue, dtype: int64"
      ]
     },
     "execution_count": 23,
     "metadata": {},
     "output_type": "execute_result"
    }
   ],
   "source": [
    "Toronto_top_10_clustered.loc[Toronto_top_10_clustered['Cluster label'] == 0, Toronto_top_10_clustered.columns[[1] + list(range(5, Toronto_top_10_clustered.shape[1]))]].reset_index(drop=True)[\n",
    "'No.1 Most common Venue'].value_counts().head(10)"
   ]
  },
  {
   "cell_type": "markdown",
   "metadata": {},
   "source": [
    "Convenient Area, where we can find most type of venue categories"
   ]
  },
  {
   "cell_type": "markdown",
   "metadata": {},
   "source": [
    "**Cluster 2**"
   ]
  },
  {
   "cell_type": "code",
   "execution_count": 24,
   "metadata": {},
   "outputs": [
    {
     "data": {
      "text/plain": [
       "Cafeteria    1\n",
       "Name: No.1 Most common Venue, dtype: int64"
      ]
     },
     "execution_count": 24,
     "metadata": {},
     "output_type": "execute_result"
    }
   ],
   "source": [
    "Toronto_top_10_clustered.loc[Toronto_top_10_clustered['Cluster label'] == 1, Toronto_top_10_clustered.columns[[1] + list(range(5, Toronto_top_10_clustered.shape[1]))]].reset_index(drop=True)[\n",
    "'No.1 Most common Venue'].value_counts().head(10)"
   ]
  },
  {
   "cell_type": "markdown",
   "metadata": {},
   "source": [
    "People around here enjoys coffee"
   ]
  },
  {
   "cell_type": "markdown",
   "metadata": {},
   "source": [
    "**Cluster 3**"
   ]
  },
  {
   "cell_type": "code",
   "execution_count": 25,
   "metadata": {},
   "outputs": [
    {
     "data": {
      "text/plain": [
       "Filipino Restaurant    1\n",
       "Name: No.1 Most common Venue, dtype: int64"
      ]
     },
     "execution_count": 25,
     "metadata": {},
     "output_type": "execute_result"
    }
   ],
   "source": [
    "Toronto_top_10_clustered.loc[Toronto_top_10_clustered['Cluster label'] == 2, Toronto_top_10_clustered.columns[[1] + list(range(5, Toronto_top_10_clustered.shape[1]))]].reset_index(drop=True)[\n",
    "'No.1 Most common Venue'].value_counts().head(10)"
   ]
  },
  {
   "cell_type": "markdown",
   "metadata": {},
   "source": [
    "People around here like Filipino foods"
   ]
  },
  {
   "cell_type": "markdown",
   "metadata": {},
   "source": [
    "**Cluster 4**"
   ]
  },
  {
   "cell_type": "code",
   "execution_count": 26,
   "metadata": {},
   "outputs": [
    {
     "data": {
      "text/plain": [
       "Park    4\n",
       "Name: No.1 Most common Venue, dtype: int64"
      ]
     },
     "execution_count": 26,
     "metadata": {},
     "output_type": "execute_result"
    }
   ],
   "source": [
    "Toronto_top_10_clustered.loc[Toronto_top_10_clustered['Cluster label'] == 3, Toronto_top_10_clustered.columns[[1] + list(range(5, Toronto_top_10_clustered.shape[1]))]].reset_index(drop=True)[\n",
    "'No.1 Most common Venue'].value_counts().head(10)"
   ]
  },
  {
   "cell_type": "markdown",
   "metadata": {},
   "source": [
    "People came here to visit Parks"
   ]
  },
  {
   "cell_type": "markdown",
   "metadata": {},
   "source": [
    "**Cluster 5**"
   ]
  },
  {
   "cell_type": "code",
   "execution_count": 27,
   "metadata": {},
   "outputs": [
    {
     "data": {
      "text/plain": [
       "Park                3\n",
       "Business Service    1\n",
       "Name: No.1 Most common Venue, dtype: int64"
      ]
     },
     "execution_count": 27,
     "metadata": {},
     "output_type": "execute_result"
    }
   ],
   "source": [
    "Toronto_top_10_clustered.loc[Toronto_top_10_clustered['Cluster label'] == 4, Toronto_top_10_clustered.columns[[1] + list(range(5, Toronto_top_10_clustered.shape[1]))]].reset_index(drop=True)[\n",
    "'No.1 Most common Venue'].value_counts().head(10)"
   ]
  },
  {
   "cell_type": "markdown",
   "metadata": {},
   "source": [
    "People around here go for park & business services"
   ]
  },
  {
   "cell_type": "markdown",
   "metadata": {},
   "source": [
    "**Cluster 6**"
   ]
  },
  {
   "cell_type": "code",
   "execution_count": 28,
   "metadata": {},
   "outputs": [
    {
     "data": {
      "text/plain": [
       "Pool    1\n",
       "Park    1\n",
       "Name: No.1 Most common Venue, dtype: int64"
      ]
     },
     "execution_count": 28,
     "metadata": {},
     "output_type": "execute_result"
    }
   ],
   "source": [
    "Toronto_top_10_clustered.loc[Toronto_top_10_clustered['Cluster label'] == 5, Toronto_top_10_clustered.columns[[1] + list(range(5, Toronto_top_10_clustered.shape[1]))]].reset_index(drop=True)[\n",
    "'No.1 Most common Venue'].value_counts().head()"
   ]
  },
  {
   "cell_type": "markdown",
   "metadata": {},
   "source": [
    "People around go to pool & park"
   ]
  }
 ],
 "metadata": {
  "kernelspec": {
   "display_name": "Python 3",
   "language": "python",
   "name": "python3"
  },
  "language_info": {
   "codemirror_mode": {
    "name": "ipython",
    "version": 3
   },
   "file_extension": ".py",
   "mimetype": "text/x-python",
   "name": "python",
   "nbconvert_exporter": "python",
   "pygments_lexer": "ipython3",
   "version": "3.8.2"
  }
 },
 "nbformat": 4,
 "nbformat_minor": 4
}
